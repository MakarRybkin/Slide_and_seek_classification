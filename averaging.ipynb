{
 "cells": [
  {
   "metadata": {},
   "cell_type": "markdown",
   "source": "### Averaging best submissions of two architectures",
   "id": "15772afe395d69f8"
  },
  {
   "cell_type": "code",
   "id": "initial_id",
   "metadata": {
    "collapsed": true,
    "ExecuteTime": {
     "end_time": "2025-08-04T07:58:06.138409Z",
     "start_time": "2025-08-04T07:58:05.959620Z"
    }
   },
   "source": [
    "import pandas as pd\n",
    "import numpy as np\n",
    "\n",
    "file_names = [\n",
    "    'submissions/submission__1_.csv',\n",
    "    'submissions/submission__5_.csv',\n",
    "    'submissions/submission__9_.csv',\n",
    "    'submissions/submission__2_.csv',\n",
    "    'submissions/Submission_FileResNet50_run_3_seed_160__1_.csv',\n",
    "    'submissions/Submission_FileResNet50_run_3_seed_160__3_.csv'\n",
    "]\n",
    "\n",
    "\n",
    "final_submission = pd.read_csv(file_names[0])\n",
    "final_submission['label'] = 0\n",
    "\n",
    "for file in file_names:\n",
    "    df = pd.read_csv(file)\n",
    "    final_submission['label'] += df['label']\n",
    "\n",
    "final_submission['label'] = final_submission['label'] / len(file_names)\n",
    "\n",
    "final_submission['label'] = np.where(final_submission['label'] >= 0.5, 1, 0)\n",
    "\n",
    "final_submission.to_csv('submissions/averaged_submission.csv', index=False)\n",
    "\n",
    "print('File \"averaged_submission.csv\" created!')"
   ],
   "outputs": [
    {
     "name": "stdout",
     "output_type": "stream",
     "text": [
      "File \"averaged_submission.csv\" created!\n"
     ]
    }
   ],
   "execution_count": 4
  }
 ],
 "metadata": {
  "kernelspec": {
   "display_name": "Python 3",
   "language": "python",
   "name": "python3"
  },
  "language_info": {
   "codemirror_mode": {
    "name": "ipython",
    "version": 2
   },
   "file_extension": ".py",
   "mimetype": "text/x-python",
   "name": "python",
   "nbconvert_exporter": "python",
   "pygments_lexer": "ipython2",
   "version": "2.7.6"
  }
 },
 "nbformat": 4,
 "nbformat_minor": 5
}
